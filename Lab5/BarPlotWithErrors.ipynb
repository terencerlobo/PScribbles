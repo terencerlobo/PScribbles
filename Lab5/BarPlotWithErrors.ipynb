{
 "cells": [
  {
   "cell_type": "code",
   "execution_count": 6,
   "id": "0fdcf6d3",
   "metadata": {},
   "outputs": [],
   "source": [
    "import matplotlib.pyplot as plt\n",
    "import pandas as pd\n",
    "import numpy as np\n",
    "%matplotlib inline"
   ]
  },
  {
   "cell_type": "code",
   "execution_count": 7,
   "id": "1639d1cd",
   "metadata": {},
   "outputs": [],
   "source": [
    "a = np.array([10,40,39,30,39])\n",
    "b = np.array([80,38,24,33,50])\n",
    "c = np.array([80,36,90,25,44])\n",
    "d = np.array([70,45,30,69,15])\n",
    "e = np.array([25,45,39,30,55])"
   ]
  },
  {
   "cell_type": "code",
   "execution_count": 8,
   "id": "5cb9f45c",
   "metadata": {},
   "outputs": [],
   "source": [
    "a_mean = np.mean(a)\n",
    "b_mean = np.mean(b)\n",
    "c_mean = np.mean(c)\n",
    "d_mean = np.mean(d)\n",
    "e_mean = np.mean(e)"
   ]
  },
  {
   "cell_type": "code",
   "execution_count": 9,
   "id": "a3db286a",
   "metadata": {},
   "outputs": [
    {
     "data": {
      "image/png": "[encoded data removed]",
      "text/plain": [
       "<Figure size 432x288 with 1 Axes>"
      ]
     },
     "metadata": {
      "needs_background": "light"
     },
     "output_type": "display_data"
    }
   ],
   "source": [
    "a_deviation = np.std(a)\n",
    "b_deviation = np.std(b)\n",
    "c_deviation = np.std(c)\n",
    "d_deviation = np.std(d)\n",
    "e_deviation = np.std(e)\n",
    "\n",
    "bars = [a_mean, b_mean, c_mean, d_mean, e_mean]\n",
    "bars_categories = ['A', 'B', 'C', 'D', 'E']\n",
    "error_bars = [a_deviation, b_deviation, c_deviation, d_deviation, e_deviation]\n",
    "plt.bar(bars,bars_categories, yerr=error_bars)\n",
    "plt.show()"
   ]
  },
  {
   "cell_type": "code",
   "execution_count": null,
   "id": "8522ae99",
   "metadata": {},
   "outputs": [],
   "source": []
  }
 ],
 "metadata": {
  "kernelspec": {
   "display_name": "Python 3 (ipykernel)",
   "language": "python",
   "name": "python3"
  },
  "language_info": {
   "codemirror_mode": {
    "name": "ipython",
    "version": 3
   },
   "file_extension": ".py",
   "mimetype": "text/x-python",
   "name": "python",
   "nbconvert_exporter": "python",
   "pygments_lexer": "ipython3",
   "version": "3.9.12"
  }
 },
 "nbformat": 4,
 "nbformat_minor": 5
}
