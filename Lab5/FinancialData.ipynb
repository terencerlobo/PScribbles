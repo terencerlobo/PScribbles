{
 "cells": [
  {
   "cell_type": "code",
   "execution_count": 9,
   "id": "b8e86091",
   "metadata": {},
   "outputs": [
    {
     "data": {
      "text/html": [
       "<div>\n",
       "<style scoped>\n",
       "    .dataframe tbody tr th:only-of-type {\n",
       "        vertical-align: middle;\n",
       "    }\n",
       "\n",
       "    .dataframe tbody tr th {\n",
       "        vertical-align: top;\n",
       "    }\n",
       "\n",
       "    .dataframe thead th {\n",
       "        text-align: right;\n",
       "    }\n",
       "</style>\n",
       "<table border=\"1\" class=\"dataframe\">\n",
       "  <thead>\n",
       "    <tr style=\"text-align: right;\">\n",
       "      <th></th>\n",
       "      <th>Date</th>\n",
       "      <th>Open</th>\n",
       "      <th>High</th>\n",
       "      <th>Low</th>\n",
       "      <th>Test</th>\n",
       "    </tr>\n",
       "  </thead>\n",
       "  <tbody>\n",
       "    <tr>\n",
       "      <th>0</th>\n",
       "      <td>10-03-2016</td>\n",
       "      <td>774.250000</td>\n",
       "      <td>776.065002</td>\n",
       "      <td>769.500000</td>\n",
       "      <td>772.559998</td>\n",
       "    </tr>\n",
       "    <tr>\n",
       "      <th>1</th>\n",
       "      <td>10-04-2016</td>\n",
       "      <td>776.030029</td>\n",
       "      <td>778.710022</td>\n",
       "      <td>772.890015</td>\n",
       "      <td>776.429993</td>\n",
       "    </tr>\n",
       "    <tr>\n",
       "      <th>2</th>\n",
       "      <td>10-05-2016</td>\n",
       "      <td>779.309998</td>\n",
       "      <td>782.070007</td>\n",
       "      <td>775.650024</td>\n",
       "      <td>776.469971</td>\n",
       "    </tr>\n",
       "    <tr>\n",
       "      <th>3</th>\n",
       "      <td>10-06-2016</td>\n",
       "      <td>779.000000</td>\n",
       "      <td>780.479980</td>\n",
       "      <td>775.539978</td>\n",
       "      <td>776.859985</td>\n",
       "    </tr>\n",
       "    <tr>\n",
       "      <th>4</th>\n",
       "      <td>10-07-2016</td>\n",
       "      <td>779.659973</td>\n",
       "      <td>779.659973</td>\n",
       "      <td>770.750000</td>\n",
       "      <td>775.080017</td>\n",
       "    </tr>\n",
       "  </tbody>\n",
       "</table>\n",
       "</div>"
      ],
      "text/plain": [
       "         Date        Open        High         Low        Test\n",
       "0  10-03-2016  774.250000  776.065002  769.500000  772.559998\n",
       "1  10-04-2016  776.030029  778.710022  772.890015  776.429993\n",
       "2  10-05-2016  779.309998  782.070007  775.650024  776.469971\n",
       "3  10-06-2016  779.000000  780.479980  775.539978  776.859985\n",
       "4  10-07-2016  779.659973  779.659973  770.750000  775.080017"
      ]
     },
     "execution_count": 9,
     "metadata": {},
     "output_type": "execute_result"
    }
   ],
   "source": [
    "import numpy as np\n",
    "import pandas as pd\n",
    "import matplotlib.pyplot as plt\n",
    "\n",
    "df = pd.read_csv('./fdata.csv')\n",
    "df"
   ]
  },
  {
   "cell_type": "code",
   "execution_count": 10,
   "id": "75d99a5c",
   "metadata": {},
   "outputs": [
    {
     "data": {
      "text/plain": [
       "[<matplotlib.lines.Line2D at 0x1e2d29604c0>]"
      ]
     },
     "execution_count": 10,
     "metadata": {},
     "output_type": "execute_result"
    },
    {
     "data": {
      "image/png": "[encoded data removed]",
      "text/plain": [
       "<Figure size 432x288 with 1 Axes>"
      ]
     },
     "metadata": {
      "needs_background": "light"
     },
     "output_type": "display_data"
    }
   ],
   "source": [
    "plt.plot(df.Date, df.Test)"
   ]
  },
  {
   "cell_type": "code",
   "execution_count": null,
   "id": "fd456dbd",
   "metadata": {},
   "outputs": [],
   "source": []
  },
  {
   "cell_type": "code",
   "execution_count": null,
   "id": "192b9df9",
   "metadata": {},
   "outputs": [],
   "source": []
  }
 ],
 "metadata": {
  "kernelspec": {
   "display_name": "Python 3 (ipykernel)",
   "language": "python",
   "name": "python3"
  },
  "language_info": {
   "codemirror_mode": {
    "name": "ipython",
    "version": 3
   },
   "file_extension": ".py",
   "mimetype": "text/x-python",
   "name": "python",
   "nbconvert_exporter": "python",
   "pygments_lexer": "ipython3",
   "version": "3.9.12"
  }
 },
 "nbformat": 4,
 "nbformat_minor": 5
}
